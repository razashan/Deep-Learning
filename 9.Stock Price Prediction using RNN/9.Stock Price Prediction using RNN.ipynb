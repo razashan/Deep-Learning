{
 "cells": [
  {
   "cell_type": "markdown",
   "metadata": {},
   "source": [
    "# Importing Libraries "
   ]
  },
  {
   "cell_type": "code",
   "execution_count": 43,
   "metadata": {
    "id": "DgZgHsAWe330"
   },
   "outputs": [],
   "source": [
    "import pandas as pd\n",
    "import numpy as np"
   ]
  },
  {
   "cell_type": "code",
   "execution_count": 44,
   "metadata": {
    "id": "bGCJhGueewfS"
   },
   "outputs": [],
   "source": [
    "data = pd.read_csv('/content/drive/MyDrive/data/data1.txt')"
   ]
  },
  {
   "cell_type": "code",
   "execution_count": 45,
   "metadata": {
    "colab": {
     "base_uri": "https://localhost:8080/",
     "height": 204
    },
    "id": "4LsmcbOhe0k7",
    "outputId": "8a611fdf-6983-4a25-d24f-a8ebaa42031a"
   },
   "outputs": [
    {
     "data": {
      "text/html": [
       "<div>\n",
       "<style scoped>\n",
       "    .dataframe tbody tr th:only-of-type {\n",
       "        vertical-align: middle;\n",
       "    }\n",
       "\n",
       "    .dataframe tbody tr th {\n",
       "        vertical-align: top;\n",
       "    }\n",
       "\n",
       "    .dataframe thead th {\n",
       "        text-align: right;\n",
       "    }\n",
       "</style>\n",
       "<table border=\"1\" class=\"dataframe\">\n",
       "  <thead>\n",
       "    <tr style=\"text-align: right;\">\n",
       "      <th></th>\n",
       "      <th>Date</th>\n",
       "      <th>Open</th>\n",
       "      <th>High</th>\n",
       "      <th>Low</th>\n",
       "      <th>Close</th>\n",
       "      <th>Volume</th>\n",
       "      <th>OpenInt</th>\n",
       "    </tr>\n",
       "  </thead>\n",
       "  <tbody>\n",
       "    <tr>\n",
       "      <th>0</th>\n",
       "      <td>2005-02-25</td>\n",
       "      <td>9.37</td>\n",
       "      <td>9.62</td>\n",
       "      <td>9.30</td>\n",
       "      <td>9.52</td>\n",
       "      <td>377903</td>\n",
       "      <td>0</td>\n",
       "    </tr>\n",
       "    <tr>\n",
       "      <th>1</th>\n",
       "      <td>2005-02-28</td>\n",
       "      <td>9.40</td>\n",
       "      <td>9.64</td>\n",
       "      <td>9.29</td>\n",
       "      <td>9.31</td>\n",
       "      <td>312028</td>\n",
       "      <td>0</td>\n",
       "    </tr>\n",
       "    <tr>\n",
       "      <th>2</th>\n",
       "      <td>2005-03-01</td>\n",
       "      <td>9.40</td>\n",
       "      <td>9.51</td>\n",
       "      <td>9.10</td>\n",
       "      <td>9.40</td>\n",
       "      <td>384273</td>\n",
       "      <td>0</td>\n",
       "    </tr>\n",
       "    <tr>\n",
       "      <th>3</th>\n",
       "      <td>2005-03-02</td>\n",
       "      <td>9.33</td>\n",
       "      <td>9.44</td>\n",
       "      <td>9.07</td>\n",
       "      <td>9.35</td>\n",
       "      <td>652132</td>\n",
       "      <td>0</td>\n",
       "    </tr>\n",
       "    <tr>\n",
       "      <th>4</th>\n",
       "      <td>2005-03-03</td>\n",
       "      <td>9.35</td>\n",
       "      <td>9.57</td>\n",
       "      <td>9.30</td>\n",
       "      <td>9.49</td>\n",
       "      <td>349153</td>\n",
       "      <td>0</td>\n",
       "    </tr>\n",
       "  </tbody>\n",
       "</table>\n",
       "</div>"
      ],
      "text/plain": [
       "         Date  Open  High   Low  Close  Volume  OpenInt\n",
       "0  2005-02-25  9.37  9.62  9.30   9.52  377903        0\n",
       "1  2005-02-28  9.40  9.64  9.29   9.31  312028        0\n",
       "2  2005-03-01  9.40  9.51  9.10   9.40  384273        0\n",
       "3  2005-03-02  9.33  9.44  9.07   9.35  652132        0\n",
       "4  2005-03-03  9.35  9.57  9.30   9.49  349153        0"
      ]
     },
     "execution_count": 45,
     "metadata": {},
     "output_type": "execute_result"
    }
   ],
   "source": [
    "data.head()"
   ]
  },
  {
   "cell_type": "code",
   "execution_count": 46,
   "metadata": {
    "colab": {
     "base_uri": "https://localhost:8080/"
    },
    "id": "rv_Bq8F1e2fq",
    "outputId": "e45eeda3-1c81-4f42-8cef-4be89c7d0863"
   },
   "outputs": [
    {
     "name": "stdout",
     "output_type": "stream",
     "text": [
      "Data Shape --> (3201, 7)\n"
     ]
    }
   ],
   "source": [
    "print(\"Data Shape -->\", data.shape)"
   ]
  },
  {
   "cell_type": "code",
   "execution_count": 47,
   "metadata": {
    "colab": {
     "base_uri": "https://localhost:8080/",
     "height": 297
    },
    "id": "h4h2FsgWfvje",
    "outputId": "04e6921a-8666-4db4-eead-9a81883b36b6"
   },
   "outputs": [
    {
     "data": {
      "text/html": [
       "<div>\n",
       "<style scoped>\n",
       "    .dataframe tbody tr th:only-of-type {\n",
       "        vertical-align: middle;\n",
       "    }\n",
       "\n",
       "    .dataframe tbody tr th {\n",
       "        vertical-align: top;\n",
       "    }\n",
       "\n",
       "    .dataframe thead th {\n",
       "        text-align: right;\n",
       "    }\n",
       "</style>\n",
       "<table border=\"1\" class=\"dataframe\">\n",
       "  <thead>\n",
       "    <tr style=\"text-align: right;\">\n",
       "      <th></th>\n",
       "      <th>Open</th>\n",
       "      <th>High</th>\n",
       "      <th>Low</th>\n",
       "      <th>Close</th>\n",
       "      <th>Volume</th>\n",
       "      <th>OpenInt</th>\n",
       "    </tr>\n",
       "  </thead>\n",
       "  <tbody>\n",
       "    <tr>\n",
       "      <th>count</th>\n",
       "      <td>3201.000000</td>\n",
       "      <td>3201.000000</td>\n",
       "      <td>3201.000000</td>\n",
       "      <td>3201.000000</td>\n",
       "      <td>3.201000e+03</td>\n",
       "      <td>3201.0</td>\n",
       "    </tr>\n",
       "    <tr>\n",
       "      <th>mean</th>\n",
       "      <td>21.518920</td>\n",
       "      <td>21.888162</td>\n",
       "      <td>21.138364</td>\n",
       "      <td>21.530935</td>\n",
       "      <td>4.421042e+05</td>\n",
       "      <td>0.0</td>\n",
       "    </tr>\n",
       "    <tr>\n",
       "      <th>std</th>\n",
       "      <td>16.123405</td>\n",
       "      <td>16.296836</td>\n",
       "      <td>15.917826</td>\n",
       "      <td>16.136642</td>\n",
       "      <td>3.206984e+05</td>\n",
       "      <td>0.0</td>\n",
       "    </tr>\n",
       "    <tr>\n",
       "      <th>min</th>\n",
       "      <td>5.580000</td>\n",
       "      <td>5.800000</td>\n",
       "      <td>5.360000</td>\n",
       "      <td>5.490000</td>\n",
       "      <td>4.659400e+04</td>\n",
       "      <td>0.0</td>\n",
       "    </tr>\n",
       "    <tr>\n",
       "      <th>25%</th>\n",
       "      <td>12.530000</td>\n",
       "      <td>12.850000</td>\n",
       "      <td>12.250000</td>\n",
       "      <td>12.530000</td>\n",
       "      <td>2.629530e+05</td>\n",
       "      <td>0.0</td>\n",
       "    </tr>\n",
       "    <tr>\n",
       "      <th>50%</th>\n",
       "      <td>15.500000</td>\n",
       "      <td>15.870000</td>\n",
       "      <td>15.170000</td>\n",
       "      <td>15.530000</td>\n",
       "      <td>3.666640e+05</td>\n",
       "      <td>0.0</td>\n",
       "    </tr>\n",
       "    <tr>\n",
       "      <th>75%</th>\n",
       "      <td>24.030000</td>\n",
       "      <td>24.440000</td>\n",
       "      <td>23.540000</td>\n",
       "      <td>24.030000</td>\n",
       "      <td>5.185050e+05</td>\n",
       "      <td>0.0</td>\n",
       "    </tr>\n",
       "    <tr>\n",
       "      <th>max</th>\n",
       "      <td>94.310000</td>\n",
       "      <td>95.000000</td>\n",
       "      <td>92.000000</td>\n",
       "      <td>94.250000</td>\n",
       "      <td>6.738213e+06</td>\n",
       "      <td>0.0</td>\n",
       "    </tr>\n",
       "  </tbody>\n",
       "</table>\n",
       "</div>"
      ],
      "text/plain": [
       "              Open         High  ...        Volume  OpenInt\n",
       "count  3201.000000  3201.000000  ...  3.201000e+03   3201.0\n",
       "mean     21.518920    21.888162  ...  4.421042e+05      0.0\n",
       "std      16.123405    16.296836  ...  3.206984e+05      0.0\n",
       "min       5.580000     5.800000  ...  4.659400e+04      0.0\n",
       "25%      12.530000    12.850000  ...  2.629530e+05      0.0\n",
       "50%      15.500000    15.870000  ...  3.666640e+05      0.0\n",
       "75%      24.030000    24.440000  ...  5.185050e+05      0.0\n",
       "max      94.310000    95.000000  ...  6.738213e+06      0.0\n",
       "\n",
       "[8 rows x 6 columns]"
      ]
     },
     "execution_count": 47,
     "metadata": {},
     "output_type": "execute_result"
    }
   ],
   "source": [
    "data.describe()"
   ]
  },
  {
   "cell_type": "code",
   "execution_count": 48,
   "metadata": {
    "colab": {
     "base_uri": "https://localhost:8080/"
    },
    "id": "VCc5froOfxHR",
    "outputId": "257aeb82-1cb3-43de-eb1e-a98869f96274"
   },
   "outputs": [
    {
     "name": "stdout",
     "output_type": "stream",
     "text": [
      "Do you have a null column? \n",
      " Date       0\n",
      "Open       0\n",
      "High       0\n",
      "Low        0\n",
      "Close      0\n",
      "Volume     0\n",
      "OpenInt    0\n",
      "dtype: int64\n"
     ]
    }
   ],
   "source": [
    "print(\"Do you have a null column? \\n\", data.isna().sum())"
   ]
  },
  {
   "cell_type": "code",
   "execution_count": 49,
   "metadata": {
    "id": "1b0zxtXefy6o"
   },
   "outputs": [],
   "source": [
    "training_size = int(len(data)*0.80)\n",
    "data_len = len(data)\n",
    "\n",
    "train, test = data[0:training_size],data[training_size:data_len]"
   ]
  },
  {
   "cell_type": "code",
   "execution_count": 50,
   "metadata": {
    "colab": {
     "base_uri": "https://localhost:8080/"
    },
    "id": "BQE-lwguf4JK",
    "outputId": "d9bbc8e0-ae76-4978-a02f-7853ed88e715"
   },
   "outputs": [
    {
     "name": "stdout",
     "output_type": "stream",
     "text": [
      "Training Size -->  2560\n",
      "total length of data -->  3201\n",
      "Train length -->  2560\n",
      "Test length -->  641\n"
     ]
    }
   ],
   "source": [
    "print(\"Training Size --> \", training_size)\n",
    "print(\"total length of data --> \", data_len)\n",
    "print(\"Train length --> \", len(train))\n",
    "print(\"Test length --> \", len(test))"
   ]
  },
  {
   "cell_type": "code",
   "execution_count": 51,
   "metadata": {
    "id": "GN7dbgsRf5m2"
   },
   "outputs": [],
   "source": [
    "# the part of data that we will use as training.\n",
    "train = train.loc[:, [\"Open\"]].values\n",
    "\n",
    "from sklearn.preprocessing import MinMaxScaler\n",
    "scaler = MinMaxScaler(feature_range=(0, 1))\n",
    "train_scaled = scaler.fit_transform(train)"
   ]
  },
  {
   "cell_type": "code",
   "execution_count": 52,
   "metadata": {
    "id": "M3EMJIGSf7_m"
   },
   "outputs": [],
   "source": [
    "end_len = len(train_scaled)\n",
    "X_train = []\n",
    "y_train = []\n",
    "timesteps = 40\n",
    "\n",
    "for i in range(timesteps, end_len):\n",
    "    X_train.append(train_scaled[i - timesteps:i, 0])\n",
    "    y_train.append(train_scaled[i, 0])\n",
    "X_train, y_train = np.array(X_train), np.array(y_train)"
   ]
  },
  {
   "cell_type": "code",
   "execution_count": 53,
   "metadata": {
    "colab": {
     "base_uri": "https://localhost:8080/"
    },
    "id": "CSBn9uwtf-ff",
    "outputId": "7ea6fb7e-e99b-45b6-d839-c3874cb78541"
   },
   "outputs": [
    {
     "name": "stdout",
     "output_type": "stream",
     "text": [
      "X_train -->  (2520, 40, 1)\n",
      "y_train shape -->  (2520,)\n"
     ]
    }
   ],
   "source": [
    "X_train = np.reshape(X_train, (X_train.shape[0], X_train.shape[1], 1))\n",
    "print(\"X_train --> \", X_train.shape)\n",
    "print(\"y_train shape --> \", y_train.shape)"
   ]
  },
  {
   "cell_type": "code",
   "execution_count": 54,
   "metadata": {
    "id": "9M8byGTngE2t"
   },
   "outputs": [],
   "source": [
    "from keras.models import Sequential\n",
    "from keras.layers import Dense\n",
    "from keras.layers import SimpleRNN\n",
    "from keras.layers import Dropout"
   ]
  },
  {
   "cell_type": "code",
   "execution_count": 55,
   "metadata": {
    "id": "2uqgd2-rgLA7"
   },
   "outputs": [],
   "source": [
    "regressor = Sequential()\n",
    "\n",
    "regressor.add(SimpleRNN(units = 50, activation = \"tanh\", return_sequences = True, input_shape = (X_train.shape[1],1)))\n",
    "regressor.add(Dropout(0.2))\n",
    "\n",
    "regressor.add(SimpleRNN(units = 50, activation = \"tanh\", return_sequences = True))\n",
    "regressor.add(Dropout(0.2))\n",
    "\n",
    "regressor.add(SimpleRNN(units = 50, activation = \"tanh\", return_sequences = True))\n",
    "regressor.add(Dropout(0.2))\n",
    "\n",
    "regressor.add(SimpleRNN(units = 50))\n",
    "regressor.add(Dropout(0.2))\n",
    "\n",
    "regressor.add(Dense(units = 1))"
   ]
  },
  {
   "cell_type": "code",
   "execution_count": 56,
   "metadata": {
    "id": "qOS7APJFgNvD"
   },
   "outputs": [],
   "source": [
    "regressor.compile(optimizer= \"adam\", loss = \"mean_squared_error\")"
   ]
  },
  {
   "cell_type": "code",
   "execution_count": 57,
   "metadata": {
    "id": "HQ6I25ACgQjH"
   },
   "outputs": [],
   "source": [
    "epochs = 100 \n",
    "batch_size = 20"
   ]
  },
  {
   "cell_type": "code",
   "execution_count": 58,
   "metadata": {
    "colab": {
     "base_uri": "https://localhost:8080/"
    },
    "id": "xu0YHYJUgSdT",
    "outputId": "5e1b978e-06c2-4273-e98a-eb6cbef8a603"
   },
   "outputs": [
    {
     "name": "stdout",
     "output_type": "stream",
     "text": [
      "Epoch 1/100\n",
      "126/126 [==============================] - 5s 26ms/step - loss: 0.2922\n",
      "Epoch 2/100\n",
      "126/126 [==============================] - 3s 26ms/step - loss: 0.1364\n",
      "Epoch 3/100\n",
      "126/126 [==============================] - 3s 26ms/step - loss: 0.0606\n",
      "Epoch 4/100\n",
      "126/126 [==============================] - 3s 26ms/step - loss: 0.0419\n",
      "Epoch 5/100\n",
      "126/126 [==============================] - 3s 26ms/step - loss: 0.0281\n",
      "Epoch 6/100\n",
      "126/126 [==============================] - 3s 26ms/step - loss: 0.0199\n",
      "Epoch 7/100\n",
      "126/126 [==============================] - 3s 26ms/step - loss: 0.0152\n",
      "Epoch 8/100\n",
      "126/126 [==============================] - 3s 26ms/step - loss: 0.0121\n",
      "Epoch 9/100\n",
      "126/126 [==============================] - 3s 26ms/step - loss: 0.0098\n",
      "Epoch 10/100\n",
      "126/126 [==============================] - 3s 26ms/step - loss: 0.0084\n",
      "Epoch 11/100\n",
      "126/126 [==============================] - 3s 26ms/step - loss: 0.0075\n",
      "Epoch 12/100\n",
      "126/126 [==============================] - 3s 26ms/step - loss: 0.0066\n",
      "Epoch 13/100\n",
      "126/126 [==============================] - 3s 26ms/step - loss: 0.0058\n",
      "Epoch 14/100\n",
      "126/126 [==============================] - 3s 26ms/step - loss: 0.0052\n",
      "Epoch 15/100\n",
      "126/126 [==============================] - 3s 26ms/step - loss: 0.0043\n",
      "Epoch 16/100\n",
      "126/126 [==============================] - 3s 26ms/step - loss: 0.0044\n",
      "Epoch 17/100\n",
      "126/126 [==============================] - 3s 26ms/step - loss: 0.0040\n",
      "Epoch 18/100\n",
      "126/126 [==============================] - 3s 26ms/step - loss: 0.0036\n",
      "Epoch 19/100\n",
      "126/126 [==============================] - 3s 26ms/step - loss: 0.0035\n",
      "Epoch 20/100\n",
      "126/126 [==============================] - 3s 26ms/step - loss: 0.0034\n",
      "Epoch 21/100\n",
      "126/126 [==============================] - 3s 26ms/step - loss: 0.0031\n",
      "Epoch 22/100\n",
      "126/126 [==============================] - 3s 26ms/step - loss: 0.0029\n",
      "Epoch 23/100\n",
      "126/126 [==============================] - 3s 26ms/step - loss: 0.0027\n",
      "Epoch 24/100\n",
      "126/126 [==============================] - 3s 26ms/step - loss: 0.0026\n",
      "Epoch 25/100\n",
      "126/126 [==============================] - 3s 26ms/step - loss: 0.0024\n",
      "Epoch 26/100\n",
      "126/126 [==============================] - 3s 26ms/step - loss: 0.0025\n",
      "Epoch 27/100\n",
      "126/126 [==============================] - 3s 26ms/step - loss: 0.0022\n",
      "Epoch 28/100\n",
      "126/126 [==============================] - 3s 26ms/step - loss: 0.0022\n",
      "Epoch 29/100\n",
      "126/126 [==============================] - 3s 26ms/step - loss: 0.0020\n",
      "Epoch 30/100\n",
      "126/126 [==============================] - 3s 26ms/step - loss: 0.0019\n",
      "Epoch 31/100\n",
      "126/126 [==============================] - 3s 26ms/step - loss: 0.0018\n",
      "Epoch 32/100\n",
      "126/126 [==============================] - 3s 26ms/step - loss: 0.0019\n",
      "Epoch 33/100\n",
      "126/126 [==============================] - 3s 26ms/step - loss: 0.0019\n",
      "Epoch 34/100\n",
      "126/126 [==============================] - 3s 26ms/step - loss: 0.0017\n",
      "Epoch 35/100\n",
      "126/126 [==============================] - 3s 26ms/step - loss: 0.0017\n",
      "Epoch 36/100\n",
      "126/126 [==============================] - 3s 26ms/step - loss: 0.0016\n",
      "Epoch 37/100\n",
      "126/126 [==============================] - 3s 26ms/step - loss: 0.0015\n",
      "Epoch 38/100\n",
      "126/126 [==============================] - 3s 26ms/step - loss: 0.0017\n",
      "Epoch 39/100\n",
      "126/126 [==============================] - 3s 26ms/step - loss: 0.0016\n",
      "Epoch 40/100\n",
      "126/126 [==============================] - 3s 26ms/step - loss: 0.0014\n",
      "Epoch 41/100\n",
      "126/126 [==============================] - 3s 26ms/step - loss: 0.0015\n",
      "Epoch 42/100\n",
      "126/126 [==============================] - 3s 26ms/step - loss: 0.0016\n",
      "Epoch 43/100\n",
      "126/126 [==============================] - 3s 26ms/step - loss: 0.0013\n",
      "Epoch 44/100\n",
      "126/126 [==============================] - 3s 26ms/step - loss: 0.0013\n",
      "Epoch 45/100\n",
      "126/126 [==============================] - 3s 26ms/step - loss: 0.0013\n",
      "Epoch 46/100\n",
      "126/126 [==============================] - 3s 26ms/step - loss: 0.0012\n",
      "Epoch 47/100\n",
      "126/126 [==============================] - 3s 26ms/step - loss: 0.0013\n",
      "Epoch 48/100\n",
      "126/126 [==============================] - 3s 26ms/step - loss: 0.0013\n",
      "Epoch 49/100\n",
      "126/126 [==============================] - 3s 26ms/step - loss: 0.0013\n",
      "Epoch 50/100\n",
      "126/126 [==============================] - 3s 26ms/step - loss: 0.0012\n",
      "Epoch 51/100\n",
      "126/126 [==============================] - 3s 26ms/step - loss: 0.0012\n",
      "Epoch 52/100\n",
      "126/126 [==============================] - 3s 26ms/step - loss: 0.0012\n",
      "Epoch 53/100\n",
      "126/126 [==============================] - 3s 26ms/step - loss: 0.0011\n",
      "Epoch 54/100\n",
      "126/126 [==============================] - 3s 26ms/step - loss: 0.0012\n",
      "Epoch 55/100\n",
      "126/126 [==============================] - 3s 26ms/step - loss: 0.0011\n",
      "Epoch 56/100\n",
      "126/126 [==============================] - 3s 26ms/step - loss: 0.0011\n",
      "Epoch 57/100\n",
      "126/126 [==============================] - 3s 26ms/step - loss: 0.0013\n",
      "Epoch 58/100\n",
      "126/126 [==============================] - 3s 26ms/step - loss: 0.0011\n",
      "Epoch 59/100\n",
      "126/126 [==============================] - 3s 26ms/step - loss: 0.0010\n",
      "Epoch 60/100\n",
      "126/126 [==============================] - 3s 26ms/step - loss: 0.0012\n",
      "Epoch 61/100\n",
      "126/126 [==============================] - 3s 26ms/step - loss: 0.0011\n",
      "Epoch 62/100\n",
      "126/126 [==============================] - 3s 26ms/step - loss: 0.0012\n",
      "Epoch 63/100\n",
      "126/126 [==============================] - 3s 27ms/step - loss: 0.0010\n",
      "Epoch 64/100\n",
      "126/126 [==============================] - 3s 27ms/step - loss: 0.0011\n",
      "Epoch 65/100\n",
      "126/126 [==============================] - 3s 27ms/step - loss: 0.0011\n",
      "Epoch 66/100\n",
      "126/126 [==============================] - 3s 27ms/step - loss: 0.0011\n",
      "Epoch 67/100\n",
      "126/126 [==============================] - 3s 27ms/step - loss: 0.0010\n",
      "Epoch 68/100\n",
      "126/126 [==============================] - 3s 27ms/step - loss: 0.0012\n",
      "Epoch 69/100\n",
      "126/126 [==============================] - 3s 27ms/step - loss: 0.0011\n",
      "Epoch 70/100\n",
      "126/126 [==============================] - 3s 27ms/step - loss: 0.0012\n",
      "Epoch 71/100\n",
      "126/126 [==============================] - 3s 26ms/step - loss: 0.0010\n",
      "Epoch 72/100\n",
      "126/126 [==============================] - 3s 27ms/step - loss: 0.0011\n",
      "Epoch 73/100\n",
      "126/126 [==============================] - 3s 27ms/step - loss: 0.0012\n",
      "Epoch 74/100\n",
      "126/126 [==============================] - 3s 27ms/step - loss: 0.0011\n",
      "Epoch 75/100\n",
      "126/126 [==============================] - 3s 27ms/step - loss: 0.0010\n",
      "Epoch 76/100\n",
      "126/126 [==============================] - 3s 26ms/step - loss: 9.1168e-04\n",
      "Epoch 77/100\n",
      "126/126 [==============================] - 3s 26ms/step - loss: 0.0011\n",
      "Epoch 78/100\n",
      "126/126 [==============================] - 3s 26ms/step - loss: 0.0012\n",
      "Epoch 79/100\n",
      "126/126 [==============================] - 3s 26ms/step - loss: 0.0011\n",
      "Epoch 80/100\n",
      "126/126 [==============================] - 3s 26ms/step - loss: 0.0010\n",
      "Epoch 81/100\n",
      "126/126 [==============================] - 3s 26ms/step - loss: 0.0011\n",
      "Epoch 82/100\n",
      "126/126 [==============================] - 3s 26ms/step - loss: 0.0011\n",
      "Epoch 83/100\n",
      "126/126 [==============================] - 3s 26ms/step - loss: 9.9782e-04\n",
      "Epoch 84/100\n",
      "126/126 [==============================] - 3s 26ms/step - loss: 0.0012\n",
      "Epoch 85/100\n",
      "126/126 [==============================] - 3s 26ms/step - loss: 0.0011\n",
      "Epoch 86/100\n",
      "126/126 [==============================] - 3s 26ms/step - loss: 0.0010\n",
      "Epoch 87/100\n",
      "126/126 [==============================] - 3s 26ms/step - loss: 9.6883e-04\n",
      "Epoch 88/100\n",
      "126/126 [==============================] - 3s 26ms/step - loss: 0.0010\n",
      "Epoch 89/100\n",
      "126/126 [==============================] - 3s 27ms/step - loss: 0.0010\n",
      "Epoch 90/100\n",
      "126/126 [==============================] - 3s 27ms/step - loss: 0.0011\n",
      "Epoch 91/100\n",
      "126/126 [==============================] - 3s 27ms/step - loss: 0.0010\n",
      "Epoch 92/100\n",
      "126/126 [==============================] - 3s 27ms/step - loss: 0.0012\n",
      "Epoch 93/100\n",
      "126/126 [==============================] - 3s 26ms/step - loss: 0.0011\n",
      "Epoch 94/100\n",
      "126/126 [==============================] - 3s 27ms/step - loss: 9.8126e-04\n",
      "Epoch 95/100\n",
      "126/126 [==============================] - 3s 26ms/step - loss: 0.0012\n",
      "Epoch 96/100\n",
      "126/126 [==============================] - 3s 26ms/step - loss: 0.0010\n",
      "Epoch 97/100\n",
      "126/126 [==============================] - 3s 26ms/step - loss: 0.0012\n",
      "Epoch 98/100\n",
      "126/126 [==============================] - 3s 26ms/step - loss: 0.0011\n",
      "Epoch 99/100\n",
      "126/126 [==============================] - 3s 27ms/step - loss: 9.6547e-04\n",
      "Epoch 100/100\n",
      "126/126 [==============================] - 3s 27ms/step - loss: 0.0011\n"
     ]
    },
    {
     "data": {
      "text/plain": [
       "<keras.callbacks.History at 0x7fa1d59e6410>"
      ]
     },
     "execution_count": 58,
     "metadata": {},
     "output_type": "execute_result"
    }
   ],
   "source": [
    "regressor.fit(X_train, y_train, epochs = epochs, batch_size = batch_size)"
   ]
  },
  {
   "cell_type": "code",
   "execution_count": 59,
   "metadata": {
    "colab": {
     "base_uri": "https://localhost:8080/",
     "height": 204
    },
    "id": "M_5YHy3-gUEH",
    "outputId": "0eaa365b-5823-4803-d995-e1a2430ecccc"
   },
   "outputs": [
    {
     "data": {
      "text/html": [
       "<div>\n",
       "<style scoped>\n",
       "    .dataframe tbody tr th:only-of-type {\n",
       "        vertical-align: middle;\n",
       "    }\n",
       "\n",
       "    .dataframe tbody tr th {\n",
       "        vertical-align: top;\n",
       "    }\n",
       "\n",
       "    .dataframe thead th {\n",
       "        text-align: right;\n",
       "    }\n",
       "</style>\n",
       "<table border=\"1\" class=\"dataframe\">\n",
       "  <thead>\n",
       "    <tr style=\"text-align: right;\">\n",
       "      <th></th>\n",
       "      <th>Date</th>\n",
       "      <th>Open</th>\n",
       "      <th>High</th>\n",
       "      <th>Low</th>\n",
       "      <th>Close</th>\n",
       "      <th>Volume</th>\n",
       "      <th>OpenInt</th>\n",
       "    </tr>\n",
       "  </thead>\n",
       "  <tbody>\n",
       "    <tr>\n",
       "      <th>2560</th>\n",
       "      <td>2015-04-30</td>\n",
       "      <td>24.81</td>\n",
       "      <td>24.980</td>\n",
       "      <td>24.13</td>\n",
       "      <td>24.46</td>\n",
       "      <td>297500</td>\n",
       "      <td>0</td>\n",
       "    </tr>\n",
       "    <tr>\n",
       "      <th>2561</th>\n",
       "      <td>2015-05-01</td>\n",
       "      <td>24.60</td>\n",
       "      <td>25.570</td>\n",
       "      <td>24.60</td>\n",
       "      <td>25.47</td>\n",
       "      <td>245100</td>\n",
       "      <td>0</td>\n",
       "    </tr>\n",
       "    <tr>\n",
       "      <th>2562</th>\n",
       "      <td>2015-05-04</td>\n",
       "      <td>25.59</td>\n",
       "      <td>25.650</td>\n",
       "      <td>24.79</td>\n",
       "      <td>24.89</td>\n",
       "      <td>307600</td>\n",
       "      <td>0</td>\n",
       "    </tr>\n",
       "    <tr>\n",
       "      <th>2563</th>\n",
       "      <td>2015-05-05</td>\n",
       "      <td>25.84</td>\n",
       "      <td>25.840</td>\n",
       "      <td>23.67</td>\n",
       "      <td>24.57</td>\n",
       "      <td>527600</td>\n",
       "      <td>0</td>\n",
       "    </tr>\n",
       "    <tr>\n",
       "      <th>2564</th>\n",
       "      <td>2015-05-06</td>\n",
       "      <td>24.58</td>\n",
       "      <td>24.848</td>\n",
       "      <td>24.02</td>\n",
       "      <td>24.31</td>\n",
       "      <td>230425</td>\n",
       "      <td>0</td>\n",
       "    </tr>\n",
       "  </tbody>\n",
       "</table>\n",
       "</div>"
      ],
      "text/plain": [
       "            Date   Open    High    Low  Close  Volume  OpenInt\n",
       "2560  2015-04-30  24.81  24.980  24.13  24.46  297500        0\n",
       "2561  2015-05-01  24.60  25.570  24.60  25.47  245100        0\n",
       "2562  2015-05-04  25.59  25.650  24.79  24.89  307600        0\n",
       "2563  2015-05-05  25.84  25.840  23.67  24.57  527600        0\n",
       "2564  2015-05-06  24.58  24.848  24.02  24.31  230425        0"
      ]
     },
     "execution_count": 59,
     "metadata": {},
     "output_type": "execute_result"
    }
   ],
   "source": [
    "test.head()"
   ]
  },
  {
   "cell_type": "code",
   "execution_count": 60,
   "metadata": {
    "colab": {
     "base_uri": "https://localhost:8080/"
    },
    "id": "40WPN125gXMK",
    "outputId": "448af629-7027-4b51-d47c-18d7e756a8b9"
   },
   "outputs": [
    {
     "name": "stdout",
     "output_type": "stream",
     "text": [
      "Real Price Shape -->  (641, 1)\n"
     ]
    }
   ],
   "source": [
    "real_price = test.loc[:, [\"Open\"]].values\n",
    "print(\"Real Price Shape --> \", real_price.shape)"
   ]
  },
  {
   "cell_type": "code",
   "execution_count": 61,
   "metadata": {
    "id": "jP9pjWGxgZbE"
   },
   "outputs": [],
   "source": [
    "dataset_total = pd.concat((data[\"Open\"], test[\"Open\"]), axis = 0)\n",
    "inputs = dataset_total[len(dataset_total) - len(test) - timesteps:].values.reshape(-1,1)\n",
    "inputs = scaler.transform(inputs)"
   ]
  },
  {
   "cell_type": "code",
   "execution_count": 62,
   "metadata": {
    "colab": {
     "base_uri": "https://localhost:8080/"
    },
    "id": "Kd_BPCknga76",
    "outputId": "241cf16a-1b6c-44b1-9712-01bd656d081a"
   },
   "outputs": [
    {
     "name": "stdout",
     "output_type": "stream",
     "text": [
      "X_test shape -->  (372, 40)\n"
     ]
    }
   ],
   "source": [
    "X_test = []\n",
    "\n",
    "for i in range(timesteps, 412):\n",
    "    X_test.append(inputs[i-timesteps:i, 0])\n",
    "X_test = np.array(X_test)\n",
    "\n",
    "print(\"X_test shape --> \", X_test.shape)"
   ]
  },
  {
   "cell_type": "code",
   "execution_count": 63,
   "metadata": {
    "id": "5eJ6MmI8gcn_"
   },
   "outputs": [],
   "source": [
    "X_test = np.reshape(X_test, (X_test.shape[0], X_test.shape[1], 1))\n",
    "X_test = np.asarray(X_test).astype(np.float32)\n",
    "predict = regressor.predict(X_test)\n",
    "predict = scaler.inverse_transform(predict)"
   ]
  },
  {
   "cell_type": "code",
   "execution_count": 64,
   "metadata": {
    "id": "xhHMnEFxhTzr"
   },
   "outputs": [],
   "source": [
    "import matplotlib.pyplot as plt"
   ]
  },
  {
   "cell_type": "code",
   "execution_count": 65,
   "metadata": {
    "colab": {
     "base_uri": "https://localhost:8080/",
     "height": 295
    },
    "id": "k6dZuzwIgeN4",
    "outputId": "4a288860-f92e-417e-d799-d791ea552afd"
   },
   "outputs": [
    {
     "data": {
      "image/png": "[encoded data removed]",
      "text/plain": [
       "<Figure size 432x288 with 1 Axes>"
      ]
     },
     "metadata": {
      "needs_background": "light"
     },
     "output_type": "display_data"
    }
   ],
   "source": [
    "plt.plot(real_price, color = \"red\", label = \"Real Stock Price\")\n",
    "plt.plot(predict, color = \"black\", label = \"Predict Stock Price\")\n",
    "plt.title(\"Stock Price Prediction\")\n",
    "plt.xlabel(\"Time\")\n",
    "plt.ylabel(\"Tesla Stock Price\")\n",
    "plt.legend()\n",
    "plt.show()"
   ]
  },
  {
   "cell_type": "code",
   "execution_count": 65,
   "metadata": {
    "id": "eMxoRnBZgf8Y"
   },
   "outputs": [],
   "source": []
  }
 ],
 "metadata": {
  "colab": {
   "collapsed_sections": [],
   "name": "Untitled65.ipynb",
   "provenance": []
  },
  "kernelspec": {
   "display_name": "Python 3 (ipykernel)",
   "language": "python",
   "name": "python3"
  },
  "language_info": {
   "codemirror_mode": {
    "name": "ipython",
    "version": 3
   },
   "file_extension": ".py",
   "mimetype": "text/x-python",
   "name": "python",
   "nbconvert_exporter": "python",
   "pygments_lexer": "ipython3",
   "version": "3.9.7"
  }
 },
 "nbformat": 4,
 "nbformat_minor": 1
}
